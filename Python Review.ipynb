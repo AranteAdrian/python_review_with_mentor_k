{
 "cells": [
  {
   "cell_type": "markdown",
   "id": "5d3abdb0",
   "metadata": {},
   "source": [
    "### Sort list without using in-built functions"
   ]
  },
  {
   "cell_type": "code",
   "execution_count": 3,
   "id": "2d74e3c3",
   "metadata": {},
   "outputs": [
    {
     "name": "stdout",
     "output_type": "stream",
     "text": [
      "[25, 36, 43, 45, 67, 90]\n"
     ]
    }
   ],
   "source": [
    "lst = [25,36,43,67,90,45]\n",
    "\n",
    "for i in range (len(lst)):\n",
    "    for j in range (i,len(lst)):\n",
    "        if (lst [j]<lst[i]):\n",
    "            temp = lst [i]\n",
    "            lst[i]=lst[j]\n",
    "            lst[j] = temp\n",
    "print (lst)"
   ]
  },
  {
   "cell_type": "markdown",
   "id": "17d68539",
   "metadata": {},
   "source": [
    "### Capitalize all words in the list using list comprehension"
   ]
  },
  {
   "cell_type": "code",
   "execution_count": 8,
   "id": "54576ebd",
   "metadata": {},
   "outputs": [
    {
     "data": {
      "text/plain": [
       "['ADRIAN', 'DOMINIQUE', 'ARANTE']"
      ]
     },
     "execution_count": 8,
     "metadata": {},
     "output_type": "execute_result"
    }
   ],
   "source": [
    "lst = ['Adrian', 'Dominique', 'Arante']\n",
    "[i.upper () for i in lst]"
   ]
  },
  {
   "cell_type": "markdown",
   "id": "eca4ab82",
   "metadata": {},
   "source": [
    "### Checking data types"
   ]
  },
  {
   "cell_type": "code",
   "execution_count": 9,
   "id": "7c53772d",
   "metadata": {},
   "outputs": [
    {
     "name": "stdout",
     "output_type": "stream",
     "text": [
      "<class 'tuple'>\n",
      "<class 'tuple'>\n",
      "<class 'str'>\n"
     ]
    }
   ],
   "source": [
    "a = (\"python\", \"java\")\n",
    "print (type(a))\n",
    "\n",
    "b = (\"Python\", )\n",
    "print (type(b))\n",
    "\n",
    "c = (\"python\")\n",
    "print (type(c))"
   ]
  },
  {
   "cell_type": "markdown",
   "id": "c8b88b9e",
   "metadata": {},
   "source": [
    "### Anonymous lambda function - function without a name is called an anonymous function"
   ]
  },
  {
   "cell_type": "code",
   "execution_count": 12,
   "id": "280aa538",
   "metadata": {},
   "outputs": [
    {
     "data": {
      "text/plain": [
       "11"
      ]
     },
     "execution_count": 12,
     "metadata": {},
     "output_type": "execute_result"
    }
   ],
   "source": [
    "a = lambda x, y: x+y\n",
    "a(5,6)"
   ]
  },
  {
   "cell_type": "markdown",
   "id": "368da5bd",
   "metadata": {},
   "source": [
    "### Normal Copy vs Shallow copy vs Deep Copy - must work with collections."
   ]
  },
  {
   "cell_type": "code",
   "execution_count": 57,
   "id": "4ef5b073",
   "metadata": {},
   "outputs": [
    {
     "name": "stdout",
     "output_type": "stream",
     "text": [
      "1264745911552\n",
      "1264745911552\n"
     ]
    }
   ],
   "source": [
    "#normal equal assignment\n",
    "lst1=[1,2,34,5]\n",
    "lst2 = lst1 # both variable are refering to the same memory location. Any changes from both variables will reflect to both\n",
    "\n",
    "#---------------\n",
    "print (id (lst1)) # same memory address\n",
    "print (id (lst2))"
   ]
  },
  {
   "cell_type": "code",
   "execution_count": 59,
   "id": "53ae4cca",
   "metadata": {},
   "outputs": [
    {
     "name": "stdout",
     "output_type": "stream",
     "text": [
      "1264746054848\n",
      "1264745983616\n"
     ]
    }
   ],
   "source": [
    "#shallow copy using .copy () operation with one dimension\n",
    "lst1=[1,2,3,4,5]\n",
    "lst2=lst1.copy () # will make different memory location\n",
    "\n",
    "lst2[1]= 1000 # answer will be [1,100,3,4,5] the same elements, it will not affect lst1\n",
    "lst1\n",
    "\n",
    "lst1[1] = 2000\n",
    "lst2 # answer will be [1,100,3,4,5] it will not copy the changes that you have made in lst1\n",
    "\n",
    "#-------------------\n",
    "print (id (lst1)) # different memory address\n",
    "print (id (lst2))"
   ]
  },
  {
   "cell_type": "code",
   "execution_count": 61,
   "id": "b1b95dde",
   "metadata": {},
   "outputs": [
    {
     "data": {
      "text/plain": [
       "[[1, 2, 3], [10, 20, 10000], [100, 200, 300]]"
      ]
     },
     "execution_count": 61,
     "metadata": {},
     "output_type": "execute_result"
    }
   ],
   "source": [
    "#shallow copy using .copy () operation with nested list\n",
    "\n",
    "lst1 = [[1,2,3], [10,20,30], [100,200,300]]\n",
    "lst2=lst1.copy ()\n",
    "\n",
    "lst2 [1][2] = 10000\n",
    "lst1 # answer will be [[1, 2, 3], [10, 20, 10000], [100, 200, 300]], it will also affect lst1"
   ]
  },
  {
   "cell_type": "code",
   "execution_count": 34,
   "id": "5c2582c9",
   "metadata": {},
   "outputs": [
    {
     "data": {
      "text/plain": [
       "[5, 10, 7, 8, 9]"
      ]
     },
     "execution_count": 34,
     "metadata": {},
     "output_type": "execute_result"
    }
   ],
   "source": [
    "# Deep copy using .deepcopy () operation with one dimension\n",
    "import copy\n",
    "\n",
    "lst1 = [5,6,7,8,9]\n",
    "lst2 = copy.deepcopy(lst1) # this will try to create different memory location\n",
    "\n",
    "lst1[1] = 10\n",
    "lst2 # answer will be [5,6,7,8,9] the same elements, it will not copy the changes that you have made in lst1\n",
    "\n",
    "lst[2] = 90\n",
    "lst1 #answer will be [5,10,7,8,9] the same elements, it will not copy the changes that you have made in lst2"
   ]
  },
  {
   "cell_type": "code",
   "execution_count": 40,
   "id": "94541ce8",
   "metadata": {},
   "outputs": [
    {
     "data": {
      "text/plain": [
       "[[1, 2, 3], [10, 20, 30], [100, 200, 300]]"
      ]
     },
     "execution_count": 40,
     "metadata": {},
     "output_type": "execute_result"
    }
   ],
   "source": [
    "# Deep copy using .deepcopy () operation with nested list (or more than one dimension)\n",
    "\n",
    "lst1 = [[1,2,3], [10,20,30], [100,200,300]]\n",
    "lst2 = copy.deepcopy (lst1)\n",
    "lst2[1][0] = 1000 # answer will be [[1, 2, 3], [100, 20, 30], [100, 200, 300]]\n",
    "lst1 #answer will remain same [[1, 2, 3], [10, 20, 30], [100, 200, 300]]"
   ]
  },
  {
   "cell_type": "markdown",
   "id": "cdb591ed",
   "metadata": {},
   "source": [
    "### Anagram \n",
    "\n",
    "is a word or phrase formed by rearranging the letters of a different word or phrase, typically using all the original letters exactly once"
   ]
  },
  {
   "cell_type": "code",
   "execution_count": 73,
   "id": "3d2d7462",
   "metadata": {},
   "outputs": [
    {
     "name": "stdout",
     "output_type": "stream",
     "text": [
      "It is an anagram\n",
      "It is an anagram\n"
     ]
    }
   ],
   "source": [
    "def check_anagram (s1,s2):\n",
    "    if sorted (s1.lower()) == sorted (s2.lower()): # I use lower () before checking if it is an anagram\n",
    "        print (\"It is an anagram\")\n",
    "    else:\n",
    "        print (\"It is not an anagram\")\n",
    "        \n",
    "check_anagram (\"top\",\"pot\") \n",
    "check_anagram (\"Top\", \"pOt\") "
   ]
  },
  {
   "cell_type": "markdown",
   "id": "2b687f80",
   "metadata": {},
   "source": [
    "### Exception Handling - Good techniques to handle errors"
   ]
  },
  {
   "cell_type": "code",
   "execution_count": 78,
   "id": "10ac63d9",
   "metadata": {},
   "outputs": [
    {
     "name": "stdout",
     "output_type": "stream",
     "text": [
      "No name defined\n"
     ]
    }
   ],
   "source": [
    "try:\n",
    "    print (name)\n",
    "\n",
    "except NameError as name_error: # try to use specific error type not only \"exception\", because exception is general you may not find the specific error in this time.\n",
    "    print (\"No name defined\")"
   ]
  },
  {
   "cell_type": "markdown",
   "id": "d11ee0e4",
   "metadata": {},
   "source": [
    "### Logging - In real world scenario, you need to do lots of logging functionalities"
   ]
  },
  {
   "cell_type": "code",
   "execution_count": null,
   "id": "97d771dc",
   "metadata": {},
   "outputs": [],
   "source": []
  }
 ],
 "metadata": {
  "kernelspec": {
   "display_name": "Python 3 (ipykernel)",
   "language": "python",
   "name": "python3"
  },
  "language_info": {
   "codemirror_mode": {
    "name": "ipython",
    "version": 3
   },
   "file_extension": ".py",
   "mimetype": "text/x-python",
   "name": "python",
   "nbconvert_exporter": "python",
   "pygments_lexer": "ipython3",
   "version": "3.9.12"
  }
 },
 "nbformat": 4,
 "nbformat_minor": 5
}
